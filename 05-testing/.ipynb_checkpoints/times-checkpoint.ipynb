{
 "cells": [
  {
   "cell_type": "code",
   "execution_count": 2,
   "metadata": {},
   "outputs": [
    {
     "name": "stdout",
     "output_type": "stream",
     "text": [
      "7200.0\n",
      "[('2010-01-12 10:00:00', '2010-01-12 12:00:00')]\n",
      "900.0\n",
      "[('2010-01-12 10:30:00', '2010-01-12 10:37:00'), ('2010-01-12 10:38:00', '2010-01-12 10:45:00')]\n",
      "[('2010-01-12 10:30:00', '2010-01-12 10:37:00'), ('2010-01-12 10:38:00', '2010-01-12 10:45:00')]\n"
     ]
    }
   ],
   "source": [
    "import datetime\n",
    "\n",
    "def time_range(t0, t1, n=1, g=0):\n",
    "    t0_s = datetime.datetime.strptime(t0, \"%Y-%m-%d %H:%M:%S\")\n",
    "    t1_s = datetime.datetime.strptime(t1, \"%Y-%m-%d %H:%M:%S\")\n",
    "    d = (t1_s - t0_s).total_seconds() / n + g * (1/n - 1)\n",
    "    print((t1_s - t0_s).total_seconds())    \n",
    "    sec_range = [(t0_s + datetime.timedelta(seconds=i * d + i * g),\n",
    "                  t0_s + datetime.timedelta(seconds=(i + 1) * d + i * g)) for i in range(n)]\n",
    "    return [(ta.strftime(\"%Y-%m-%d %H:%M:%S\"), tb.strftime(\"%Y-%m-%d %H:%M:%S\")) for ta, tb in sec_range]\n",
    "\n",
    "\n",
    "def overlap_time(obs1, obs2):\n",
    "    ot = []\n",
    "    for tr0, tr1 in obs1:\n",
    "        for tra, trb in obs2:\n",
    "            low = max(tr0, tra)\n",
    "            high = min(tr1, trb)\n",
    "            ot.append((low, high))\n",
    "    return ot\n",
    "\n",
    "\n",
    "if __name__ == \"__main__\":\n",
    "    large = time_range(\"2010-01-12 10:00:00\", \"2010-01-12 12:00:00\")\n",
    "    print(large)\n",
    "    short = time_range(\"2010-01-12 10:30:00\", \"2010-01-12 10:45:00\", 2, 60)\n",
    "    print(short)\n",
    "    print(overlap_time(large, short))"
   ]
  },
  {
   "cell_type": "code",
   "execution_count": null,
   "metadata": {},
   "outputs": [],
   "source": []
  }
 ],
 "metadata": {
  "kernelspec": {
   "display_name": "Python 3",
   "language": "python",
   "name": "python3"
  },
  "language_info": {
   "codemirror_mode": {
    "name": "ipython",
    "version": 3
   },
   "file_extension": ".py",
   "mimetype": "text/x-python",
   "name": "python",
   "nbconvert_exporter": "python",
   "pygments_lexer": "ipython3",
   "version": "3.7.3"
  }
 },
 "nbformat": 4,
 "nbformat_minor": 2
}
